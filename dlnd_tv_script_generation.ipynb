{
 "cells": [
  {
   "cell_type": "markdown",
   "metadata": {
    "deletable": true,
    "editable": true
   },
   "source": [
    "# TV Script Generation\n",
    "In this project, you'll generate your own [Simpsons](https://en.wikipedia.org/wiki/The_Simpsons) TV scripts using RNNs.  You'll be using part of the [Simpsons dataset](https://www.kaggle.com/wcukierski/the-simpsons-by-the-data) of scripts from 27 seasons.  The Neural Network you'll build will generate a new TV script for a scene at [Moe's Tavern](https://simpsonswiki.com/wiki/Moe's_Tavern).\n",
    "## Get the Data\n",
    "The data is already provided for you.  You'll be using a subset of the original dataset.  It consists of only the scenes in Moe's Tavern.  This doesn't include other versions of the tavern, like \"Moe's Cavern\", \"Flaming Moe's\", \"Uncle Moe's Family Feed-Bag\", etc.."
   ]
  },
  {
   "cell_type": "code",

   "execution_count": 26,
   "metadata": {
    "collapsed": true,
    "deletable": true,
    "editable": true
   },
   "outputs": [],
   "source": [
    "\"\"\"\n",
    "DON'T MODIFY ANYTHING IN THIS CELL\n",
    "\"\"\"\n",
    "import helper\n",
    "\n",
    "data_dir = './data/simpsons/moes_tavern_lines.txt'\n",
    "text = helper.load_data(data_dir)\n",
    "# Ignore notice, since we don't use it for analysing the data\n",
    "text = text[81:]"
   ]
  },
  {
   "cell_type": "markdown",
   "metadata": {
    "deletable": true,
    "editable": true
   },
   "source": [
    "## Explore the Data\n",
    "Play around with `view_sentence_range` to view different parts of the data."
   ]
  },
  {
   "cell_type": "code",

   "execution_count": 27,
   "metadata": {
    "collapsed": false,
    "deletable": true,
    "editable": true

   },
   "outputs": [
    {
     "name": "stdout",
     "output_type": "stream",
     "text": [
      "Dataset Stats\n",
      "Roughly the number of unique words: 11492\n",
      "Number of scenes: 262\n",

      "Average number of sentences in each scene: 15.248091603053435\n",
      "Number of lines: 4257\n",
      "Average number of words in each line: 11.50434578341555\n",
      "\n",
      "The sentences 1 to 10:\n",

      "Bart_Simpson: Eh, yeah, hello, is Mike there? Last name, Rotch.\n",
      "Moe_Szyslak: (INTO PHONE) Hold on, I'll check. (TO BARFLIES) Mike Rotch. Mike Rotch. Hey, has anybody seen Mike Rotch, lately?\n",
      "Moe_Szyslak: (INTO PHONE) Listen you little puke. One of these days I'm gonna catch you, and I'm gonna carve my name on your back with an ice pick.\n",
      "Moe_Szyslak: What's the matter Homer? You're not your normal effervescent self.\n",
      "Homer_Simpson: I got my problems, Moe. Give me another one.\n",
      "Moe_Szyslak: Homer, hey, you should not drink to forget your problems.\n",
      "Barney_Gumble: Yeah, you should only drink to enhance your social skills.\n",

      "\n",

      "\n"
     ]
    }
   ],
   "source": [
    "view_sentence_range = (1,10)\n",
    "\n",
    "\"\"\"\n",
    "DON'T MODIFY ANYTHING IN THIS CELL\n",
    "\"\"\"\n",
    "import numpy as np\n",
    "\n",
    "print('Dataset Stats')\n",
    "print('Roughly the number of unique words: {}'.format(len({word: None for word in text.split()})))\n",
    "scenes = text.split('\\n\\n')\n",
    "print('Number of scenes: {}'.format(len(scenes)))\n",
    "sentence_count_scene = [scene.count('\\n') for scene in scenes]\n",
    "print('Average number of sentences in each scene: {}'.format(np.average(sentence_count_scene)))\n",
    "\n",
    "sentences = [sentence for scene in scenes for sentence in scene.split('\\n')]\n",
    "print('Number of lines: {}'.format(len(sentences)))\n",
    "word_count_sentence = [len(sentence.split()) for sentence in sentences]\n",
    "print('Average number of words in each line: {}'.format(np.average(word_count_sentence)))\n",
    "\n",
    "print()\n",
    "print('The sentences {} to {}:'.format(*view_sentence_range))\n",
    "print('\\n'.join(text.split('\\n')[view_sentence_range[0]:view_sentence_range[1]]))"
   ]
  },
  {
   "cell_type": "markdown",
   "metadata": {
    "deletable": true,
    "editable": true
   },
   "source": [
    "## Implement Preprocessing Functions\n",
    "The first thing to do to any dataset is preprocessing.  Implement the following preprocessing functions below:\n",
    "- Lookup Table\n",
    "- Tokenize Punctuation\n",
    "\n",
    "### Lookup Table\n",
    "To create a word embedding, you first need to transform the words to ids.  In this function, create two dictionaries:\n",
    "- Dictionary to go from the words to an id, we'll call `vocab_to_int`\n",
    "- Dictionary to go from the id to word, we'll call `int_to_vocab`\n",
    "\n",
    "Return these dictionaries in the following tuple `(vocab_to_int, int_to_vocab)`"
   ]
  },
  {
   "cell_type": "code",

   "execution_count": 28,
   "metadata": {
    "collapsed": false,
    "deletable": true,
    "editable": true

   },
   "outputs": [
    {
     "ename": "ModuleNotFoundError",
     "evalue": "No module named 'tensorflow'",
     "output_type": "error",
     "traceback": [
      "\u001b[1;31m---------------------------------------------------------------------------\u001b[0m",
      "\u001b[1;31mModuleNotFoundError\u001b[0m                       Traceback (most recent call last)",
      "\u001b[1;32m<ipython-input-3-4d2e12ad1525>\u001b[0m in \u001b[0;36m<module>\u001b[1;34m()\u001b[0m\n\u001b[0;32m      1\u001b[0m \u001b[1;32mimport\u001b[0m \u001b[0mnumpy\u001b[0m \u001b[1;32mas\u001b[0m \u001b[0mnp\u001b[0m\u001b[1;33m\u001b[0m\u001b[0m\n\u001b[1;32m----> 2\u001b[1;33m \u001b[1;32mimport\u001b[0m \u001b[0mproblem_unittests\u001b[0m \u001b[1;32mas\u001b[0m \u001b[0mtests\u001b[0m\u001b[1;33m\u001b[0m\u001b[0m\n\u001b[0m\u001b[0;32m      3\u001b[0m \u001b[1;33m\u001b[0m\u001b[0m\n\u001b[0;32m      4\u001b[0m \u001b[1;32mdef\u001b[0m \u001b[0mcreate_lookup_tables\u001b[0m\u001b[1;33m(\u001b[0m\u001b[0mtext\u001b[0m\u001b[1;33m)\u001b[0m\u001b[1;33m:\u001b[0m\u001b[1;33m\u001b[0m\u001b[0m\n\u001b[0;32m      5\u001b[0m     \"\"\"\n",
      "\u001b[1;32m~\\tv-script\\problem_unittests.py\u001b[0m in \u001b[0;36m<module>\u001b[1;34m()\u001b[0m\n\u001b[0;32m      1\u001b[0m \u001b[1;32mimport\u001b[0m \u001b[0mnumpy\u001b[0m \u001b[1;32mas\u001b[0m \u001b[0mnp\u001b[0m\u001b[1;33m\u001b[0m\u001b[0m\n\u001b[1;32m----> 2\u001b[1;33m \u001b[1;32mimport\u001b[0m \u001b[0mtensorflow\u001b[0m \u001b[1;32mas\u001b[0m \u001b[0mtf\u001b[0m\u001b[1;33m\u001b[0m\u001b[0m\n\u001b[0m\u001b[0;32m      3\u001b[0m \u001b[1;32mfrom\u001b[0m \u001b[0mtensorflow\u001b[0m\u001b[1;33m.\u001b[0m\u001b[0mcontrib\u001b[0m \u001b[1;32mimport\u001b[0m \u001b[0mrnn\u001b[0m\u001b[1;33m\u001b[0m\u001b[0m\n\u001b[0;32m      4\u001b[0m \u001b[1;33m\u001b[0m\u001b[0m\n\u001b[0;32m      5\u001b[0m \u001b[1;33m\u001b[0m\u001b[0m\n",
      "\u001b[1;31mModuleNotFoundError\u001b[0m: No module named 'tensorflow'"
     ]
    }
   ],
   "source": [
    "import numpy as np\n",
    "import problem_unittests as tests\n",
    "\n",
    "def create_lookup_tables(text):\n",
    "    \"\"\"\n",
    "    Create lookup tables for vocabulary\n",
    "    :param text: The text of tv scripts split into words\n",
    "    :return: A tuple of dicts (vocab_to_int, int_to_vocab)\n",
    "    \"\"\"\n",
    "    # TODO: Implement Function\n",
    "    from collections import Counter\n",
    "    text = set(text)\n",
    "    word_counts = Counter(text)\n",
    "    vocab = sorted(word_counts,key=word_counts.get, reverse=True)\n",
    "    int_to_vocab = {ii:word for ii, word in enumerate(vocab)}\n",
    "    vocab_to_int = {word: ii for ii, word in int_to_vocab.items()}\n",
    "    \n",
    "    return (vocab_to_int, int_to_vocab)\n",
    "\n",
    "\n",
    "\"\"\"\n",
    "DON'T MODIFY ANYTHING IN THIS CELL THAT IS BELOW THIS LINE\n",
    "\"\"\"\n",
    "tests.test_create_lookup_tables(create_lookup_tables)"
   ]
  },
  {
   "cell_type": "markdown",
   "metadata": {
    "deletable": true,
    "editable": true
   },
   "source": [
    "### Tokenize Punctuation\n",
    "We'll be splitting the script into a word array using spaces as delimiters.  However, punctuations like periods and exclamation marks make it hard for the neural network to distinguish between the word \"bye\" and \"bye!\".\n",
    "\n",
    "Implement the function `token_lookup` to return a dict that will be used to tokenize symbols like \"!\" into \"||Exclamation_Mark||\".  Create a dictionary for the following symbols where the symbol is the key and value is the token:\n",
    "- Period ( . )\n",
    "- Comma ( , )\n",
    "- Quotation Mark ( \" )\n",
    "- Semicolon ( ; )\n",
    "- Exclamation mark ( ! )\n",
    "- Question mark ( ? )\n",
    "- Left Parentheses ( ( )\n",
    "- Right Parentheses ( ) )\n",
    "- Dash ( -- )\n",
    "- Return ( \\n )\n",
    "\n",
    "This dictionary will be used to token the symbols and add the delimiter (space) around it.  This separates the symbols as it's own word, making it easier for the neural network to predict on the next word. Make sure you don't use a token that could be confused as a word. Instead of using the token \"dash\", try using something like \"||dash||\"."
   ]
  },
  {
   "cell_type": "code",

   "execution_count": 29,
   "metadata": {
    "collapsed": false,
    "deletable": true,
    "editable": true
   },
   "outputs": [
    {
     "name": "stdout",
     "output_type": "stream",
     "text": [
      "Tests Passed\n"
     ]
    }
   ],

   "source": [
    "def token_lookup():\n",
    "    \"\"\"\n",
    "    Generate a dict to turn punctuation into a token.\n",
    "    :return: Tokenize dictionary where the key is the punctuation and the value is the token\n",
    "    \"\"\"\n",
    "    # TODO: Implement Function\n",
    "    keys = ['.',',','\"',';','!','?','(',')','--','\\n']\n",
    "    values = ['||Period||','||Comma||','||Quotation_Mark||','||Semicolon||','||Exclamation_Mark||','||Question_Mark||','||Left_Parentheses||','||Right_Parentheses||','||Dash||','||Return||']\n",
    "    return dict(zip(keys,values))\n",
    "\n",
    "\"\"\"\n",
    "DON'T MODIFY ANYTHING IN THIS CELL THAT IS BELOW THIS LINE\n",
    "\"\"\"\n",
    "tests.test_tokenize(token_lookup)"
   ]
  },
  {
   "cell_type": "markdown",
   "metadata": {
    "deletable": true,
    "editable": true
   },
   "source": [
    "## Preprocess all the data and save it\n",
    "Running the code cell below will preprocess all the data and save it to file."
   ]
  },
  {
   "cell_type": "code",

   "execution_count": 30,
   "metadata": {
    "collapsed": true,
    "deletable": true,
    "editable": true

   },
   "outputs": [],
   "source": [
    "\"\"\"\n",
    "DON'T MODIFY ANYTHING IN THIS CELL\n",
    "\"\"\"\n",
    "# Preprocess Training, Validation, and Testing Data\n",
    "helper.preprocess_and_save_data(data_dir, token_lookup, create_lookup_tables)"
   ]
  },
  {
   "cell_type": "markdown",
   "metadata": {
    "deletable": true,
    "editable": true
   },
   "source": [
    "# Check Point\n",
    "This is your first checkpoint. If you ever decide to come back to this notebook or have to restart the notebook, you can start from here. The preprocessed data has been saved to disk."
   ]
  },
  {
   "cell_type": "code",

   "execution_count": 31,
   "metadata": {
    "collapsed": true,
    "deletable": true,
    "editable": true

   },
   "outputs": [],
   "source": [
    "\"\"\"\n",
    "DON'T MODIFY ANYTHING IN THIS CELL\n",
    "\"\"\"\n",
    "import helper\n",
    "import numpy as np\n",
    "import problem_unittests as tests\n",
    "\n",
    "int_text, vocab_to_int, int_to_vocab, token_dict = helper.load_preprocess()"
   ]
  },
  {
   "cell_type": "markdown",
   "metadata": {
    "deletable": true,
    "editable": true
   },
   "source": [
    "## Build the Neural Network\n",
    "You'll build the components necessary to build a RNN by implementing the following functions below:\n",
    "- get_inputs\n",
    "- get_init_cell\n",
    "- get_embed\n",
    "- build_rnn\n",
    "- build_nn\n",
    "- get_batches\n",
    "\n",
    "### Check the Version of TensorFlow and Access to GPU"
   ]
  },
  {
   "cell_type": "code",

   "execution_count": 32,
   "metadata": {
    "collapsed": false,
    "deletable": true,
    "editable": true
   },
   "outputs": [
    {
     "name": "stdout",
     "output_type": "stream",
     "text": [
      "TensorFlow Version: 1.1.0\n",
      "Default GPU Device: /gpu:0\n"
     ]
    }
   ],

   "source": [
    "\"\"\"\n",
    "DON'T MODIFY ANYTHING IN THIS CELL\n",
    "\"\"\"\n",
    "from distutils.version import LooseVersion\n",
    "import warnings\n",
    "import tensorflow as tf\n",
    "\n",
    "# Check TensorFlow Version\n",
    "assert LooseVersion(tf.__version__) >= LooseVersion('1.0'), 'Please use TensorFlow version 1.0 or newer'\n",
    "print('TensorFlow Version: {}'.format(tf.__version__))\n",
    "\n",
    "# Check for a GPU\n",
    "if not tf.test.gpu_device_name():\n",
    "    warnings.warn('No GPU found. Please use a GPU to train your neural network.')\n",
    "else:\n",
    "    print('Default GPU Device: {}'.format(tf.test.gpu_device_name()))"
   ]
  },
  {
   "cell_type": "markdown",
   "metadata": {
    "deletable": true,
    "editable": true
   },
   "source": [
    "### Input\n",
    "Implement the `get_inputs()` function to create TF Placeholders for the Neural Network.  It should create the following placeholders:\n",
    "- Input text placeholder named \"input\" using the [TF Placeholder](https://www.tensorflow.org/api_docs/python/tf/placeholder) `name` parameter.\n",
    "- Targets placeholder\n",
    "- Learning Rate placeholder\n",
    "\n",
    "Return the placeholders in the following tuple `(Input, Targets, LearningRate)`"
   ]
  },
  {
   "cell_type": "code",

   "execution_count": 33,
   "metadata": {
    "collapsed": false,
    "deletable": true,
    "editable": true
   },
   "outputs": [
    {
     "name": "stdout",
     "output_type": "stream",
     "text": [
      "Tests Passed\n"
     ]
    }
   ],

   "source": [
    "def get_inputs():\n",
    "    \"\"\"\n",
    "    Create TF Placeholders for input, targets, and learning rate.\n",
    "    :return: Tuple (input, targets, learning rate)\n",
    "    \"\"\"\n",
    "    # TODO: Implement Function\n",
    "    Input = tf.placeholder(tf.int32, [None,None], name = \"input\")\n",
    "    Targets = tf.placeholder(tf.int32, [None,None], name = \"targets\")\n",
    "    Learning_rate = tf.placeholder(tf.float32, shape = None, name = \"learning_rate\")\n",
    "    \n",
    "    return Input, Targets, Learning_rate\n",
    "\n",
    "\n",
    "\"\"\"\n",
    "DON'T MODIFY ANYTHING IN THIS CELL THAT IS BELOW THIS LINE\n",
    "\"\"\"\n",
    "tests.test_get_inputs(get_inputs)"
   ]
  },
  {
   "cell_type": "markdown",
   "metadata": {
    "deletable": true,
    "editable": true
   },
   "source": [
    "### Build RNN Cell and Initialize\n",
    "Stack one or more [`BasicLSTMCells`](https://www.tensorflow.org/api_docs/python/tf/contrib/rnn/BasicLSTMCell) in a [`MultiRNNCell`](https://www.tensorflow.org/api_docs/python/tf/contrib/rnn/MultiRNNCell).\n",
    "- The Rnn size should be set using `rnn_size`\n",
    "- Initalize Cell State using the MultiRNNCell's [`zero_state()`](https://www.tensorflow.org/api_docs/python/tf/contrib/rnn/MultiRNNCell#zero_state) function\n",
    "    - Apply the name \"initial_state\" to the initial state using [`tf.identity()`](https://www.tensorflow.org/api_docs/python/tf/identity)\n",
    "\n",
    "Return the cell and initial state in the following tuple `(Cell, InitialState)`"
   ]
  },
  {
   "cell_type": "code",

   "execution_count": 34,
   "metadata": {
    "collapsed": false,
    "deletable": true,
    "editable": true
   },
   "outputs": [
    {
     "name": "stdout",
     "output_type": "stream",
     "text": [
      "Tests Passed\n"
     ]
    }
   ],

   "source": [
    "def get_init_cell(batch_size, rnn_size):\n",
    "    \"\"\"\n",
    "    Create an RNN Cell and initialize it.\n",
    "    :param batch_size: Size of batches\n",
    "    :param rnn_size: Size of RNNs\n",
    "    :return: Tuple (cell, initialize state)\n",
    "    \"\"\"\n",
    "    # TODO: Implement Function\n",
    "    num_layers = 2\n",
    "    \n",
    "    #lstm = tf.contrib.rnn.BasicLSTMCell(rnn_size)\n",
    "    #drop = tf.contrib.rnn.DropoutWrapper(lstm, output_keep_prob = 0.1)\n",
    "    cell = tf.contrib.rnn.MultiRNNCell([tf.contrib.rnn.BasicLSTMCell(rnn_size,reuse=tf.get_variable_scope().reuse) \n",

    "                                        for _ in range(num_layers)],state_is_tuple=True)\n",
    "    # initialization of cell states)\n",

    "    \n",
    "    initial_state = cell.zero_state(batch_size, tf.float32)\n",
    "    initial_state = tf.identity(initial_state, name='initial_state')\n",
    "    return cell, initial_state\n",
    "\n",
    "\n",
    "\"\"\"\n",
    "DON'T MODIFY ANYTHING IN THIS CELL THAT IS BELOW THIS LINE\n",
    "\"\"\"\n",
    "tests.test_get_init_cell(get_init_cell)"
   ]
  },
  {
   "cell_type": "markdown",
   "metadata": {
    "deletable": true,
    "editable": true
   },
   "source": [
    "### Word Embedding\n",
    "Apply embedding to `input_data` using TensorFlow.  Return the embedded sequence."
   ]
  },
  {
   "cell_type": "code",

   "execution_count": 35,
   "metadata": {
    "collapsed": false,
    "deletable": true,
    "editable": true
   },
   "outputs": [
    {
     "name": "stdout",
     "output_type": "stream",
     "text": [
      "Tests Passed\n"
     ]
    }
   ],

   "source": [
    "def get_embed(input_data, vocab_size, embed_dim):\n",
    "    \"\"\"\n",
    "    Create embedding for <input_data>.\n",
    "    :param input_data: TF placeholder for text input.\n",
    "    :param vocab_size: Number of words in vocabulary.\n",
    "    :param embed_dim: Number of embedding dimensions\n",
    "    :return: Embedded input.\n",
    "    \"\"\"\n",
    "    # TODO: Implement Function\n",
    "    embedding = tf.Variable(tf.random_uniform((vocab_size, embed_dim), -1, 1))\n",
    "    embed = tf.nn.embedding_lookup(embedding, input_data)\n",
    "    \n",
    "    return embed\n",
    "\n",
    "\n",
    "\"\"\"\n",
    "DON'T MODIFY ANYTHING IN THIS CELL THAT IS BELOW THIS LINE\n",
    "\"\"\"\n",
    "tests.test_get_embed(get_embed)"
   ]
  },
  {
   "cell_type": "markdown",
   "metadata": {
    "deletable": true,
    "editable": true
   },
   "source": [
    "### Build RNN\n",
    "You created a RNN Cell in the `get_init_cell()` function.  Time to use the cell to create a RNN.\n",
    "- Build the RNN using the [`tf.nn.dynamic_rnn()`](https://www.tensorflow.org/api_docs/python/tf/nn/dynamic_rnn)\n",
    " - Apply the name \"final_state\" to the final state using [`tf.identity()`](https://www.tensorflow.org/api_docs/python/tf/identity)\n",
    "\n",
    "Return the outputs and final_state state in the following tuple `(Outputs, FinalState)` "
   ]
  },
  {
   "cell_type": "code",

   "execution_count": 36,
   "metadata": {
    "collapsed": false,
    "deletable": true,
    "editable": true
   },
   "outputs": [
    {
     "name": "stdout",
     "output_type": "stream",
     "text": [
      "Tests Passed\n"
     ]
    }
   ],

   "source": [
    "def build_rnn(cell, inputs):\n",
    "    \"\"\"\n",
    "    Create a RNN using a RNN Cell\n",
    "    :param cell: RNN Cell\n",
    "    :param inputs: Input text data\n",
    "    :return: Tuple (Outputs, Final State)\n",
    "    \"\"\"\n",
    "    # TODO: Implement Function\n",
    "    outputs, final_state = tf.nn.dynamic_rnn(cell, inputs,dtype = tf.float32)\n",
    "    final_state = tf.identity(final_state, name = 'final_state')\n",
    "    return outputs,final_state\n",
    "\n",
    "\n",
    "\"\"\"\n",
    "DON'T MODIFY ANYTHING IN THIS CELL THAT IS BELOW THIS LINE\n",
    "\"\"\"\n",
    "tests.test_build_rnn(build_rnn)"
   ]
  },
  {
   "cell_type": "markdown",
   "metadata": {
    "deletable": true,
    "editable": true
   },
   "source": [
    "### Build the Neural Network\n",
    "Apply the functions you implemented above to:\n",
    "- Apply embedding to `input_data` using your `get_embed(input_data, vocab_size, embed_dim)` function.\n",
    "- Build RNN using `cell` and your `build_rnn(cell, inputs)` function.\n",
    "- Apply a fully connected layer with a linear activation and `vocab_size` as the number of outputs.\n",
    "\n",
    "Return the logits and final state in the following tuple (Logits, FinalState) "
   ]
  },
  {
   "cell_type": "code",

   "execution_count": 37,
   "metadata": {
    "collapsed": false,
    "deletable": true,
    "editable": true
   },
   "outputs": [
    {
     "name": "stdout",
     "output_type": "stream",
     "text": [
      "Tests Passed\n"
     ]
    }
   ],

   "source": [
    "def build_nn(cell, rnn_size, input_data, vocab_size, embed_dim):\n",
    "    \"\"\"\n",
    "    Build part of the neural network\n",
    "    :param cell: RNN cell\n",
    "    :param rnn_size: Size of rnns\n",
    "    :param input_data: Input data\n",
    "    :param vocab_size: Vocabulary size\n",
    "    :param embed_dim: Number of embedding dimensions\n",
    "    :return: Tuple (Logits, FinalState)\n",
    "    \"\"\"\n",
    "    # TODO: Implement Function\n",
    "    embedding = get_embed(input_data, vocab_size, embed_dim)\n",
    "    outputs,final_state = build_rnn(cell,embedding)\n",
    "    logits = tf.contrib.layers.fully_connected(outputs,vocab_size,activation_fn = None)\n",
    "    return logits,final_state\n",
    "\n",
    "\n",
    "\"\"\"\n",
    "DON'T MODIFY ANYTHING IN THIS CELL THAT IS BELOW THIS LINE\n",
    "\"\"\"\n",
    "tests.test_build_nn(build_nn)"
   ]
  },
  {
   "cell_type": "markdown",
   "metadata": {
    "deletable": true,
    "editable": true
   },
   "source": [
    "### Batches\n",
    "Implement `get_batches` to create batches of input and targets using `int_text`.  The batches should be a Numpy array with the shape `(number of batches, 2, batch size, sequence length)`. Each batch contains two elements:\n",
    "- The first element is a single batch of **input** with the shape `[batch size, sequence length]`\n",
    "- The second element is a single batch of **targets** with the shape `[batch size, sequence length]`\n",
    "\n",
    "If you can't fill the last batch with enough data, drop the last batch.\n",
    "\n",
    "For exmple, `get_batches([1, 2, 3, 4, 5, 6, 7, 8, 9, 10, 11, 12, 13, 14, 15, 16, 17, 18, 19, 20], 3, 2)` would return a Numpy array of the following:\n",
    "```\n",
    "[\n",
    "  # First Batch\n",
    "  [\n",
    "    # Batch of Input\n",
    "    [[ 1  2], [ 7  8], [13 14]]\n",
    "    # Batch of targets\n",
    "    [[ 2  3], [ 8  9], [14 15]]\n",
    "  ]\n",
    "\n",
    "  # Second Batch\n",
    "  [\n",
    "    # Batch of Input\n",
    "    [[ 3  4], [ 9 10], [15 16]]\n",
    "    # Batch of targets\n",
    "    [[ 4  5], [10 11], [16 17]]\n",
    "  ]\n",
    "\n",
    "  # Third Batch\n",
    "  [\n",
    "    # Batch of Input\n",
    "    [[ 5  6], [11 12], [17 18]]\n",
    "    # Batch of targets\n",
    "    [[ 6  7], [12 13], [18  1]]\n",
    "  ]\n",
    "]\n",
    "```\n",
    "\n",
    "Notice that the last target value in the last batch is the first input value of the first batch. In this case, `1`. This is a common technique used when creating sequence batches, although it is rather unintuitive."
   ]
  },
  {
   "cell_type": "code",

   "execution_count": 38,
   "metadata": {
    "collapsed": false,
    "deletable": true,
    "editable": true
   },
   "outputs": [
    {
     "name": "stdout",
     "output_type": "stream",
     "text": [
      "Tests Passed\n"
     ]
    }
   ],

   "source": [
    "def get_batches(int_text, batch_size, seq_length):\n",
    "    \"\"\"\n",
    "    Return batches of input and target\n",
    "    :param int_text: Text with the words replaced by their ids\n",
    "    :param batch_size: The size of batch\n",
    "    :param seq_length: The length of sequence\n",
    "    :return: Batches as a Numpy array\n",
    "    \"\"\"\n",
    "    # TODO: Implement Function\n",
    "    n_batches = int(len(int_text) / (batch_size * seq_length))\n",
    "\n",
    "    xdata = np.array(int_text[: n_batches * batch_size * seq_length])\n",
    "    ydata = np.array(int_text[1: n_batches * batch_size * seq_length + 1])\n",
    "    \n",
    "    ydata[-1] = xdata[0]\n",
    "\n",
    "    x_batches = np.split(xdata.reshape(batch_size, -1), n_batches, 1)\n",
    "    y_batches = np.split(ydata.reshape(batch_size, -1), n_batches, 1)\n",
    "    \n",
    "\n",
    "  \n",
    "    return np.array(list(zip(x_batches,y_batches)))\n",
    "\n",
    "\n",
    "\"\"\"\n",
    "DON'T MODIFY ANYTHING IN THIS CELL THAT IS BELOW THIS LINE\n",
    "\"\"\"\n",
    "tests.test_get_batches(get_batches)"
   ]
  },
  {
   "cell_type": "markdown",
   "metadata": {
    "deletable": true,
    "editable": true
   },
   "source": [
    "## Neural Network Training\n",
    "### Hyperparameters\n",
    "Tune the following parameters:\n",
    "\n",
    "- Set `num_epochs` to the number of epochs.\n",
    "- Set `batch_size` to the batch size.\n",
    "- Set `rnn_size` to the size of the RNNs.\n",
    "- Set `embed_dim` to the size of the embedding.\n",
    "- Set `seq_length` to the length of sequence.\n",
    "- Set `learning_rate` to the learning rate.\n",
    "- Set `show_every_n_batches` to the number of batches the neural network should print progress."
   ]
  },
  {
   "cell_type": "code",

   "execution_count": 49,

   "metadata": {
    "collapsed": true,
    "deletable": true,
    "editable": true
   },
   "outputs": [],
   "source": [
    "# Number of Epochs\n",
    "num_epochs = 100\n",
    "# Batch Size\n",
    "batch_size = 50\n",
    "# RNN Size\n",
    "rnn_size = 250\n",
    "# Embedding Dimension Size\n",
    "embed_dim = 250\n",
    "# Sequence Length\n",
    "seq_length = 30\n",
    "# Learning Rate\n",
    "learning_rate = 0.01\n",
    "# Show stats for every n number of batches\n",
    "show_every_n_batches = 10\n",
    "\n",
    "\"\"\"\n",
    "DON'T MODIFY ANYTHING IN THIS CELL THAT IS BELOW THIS LINE\n",
    "\"\"\"\n",
    "save_dir = './save'"
   ]
  },
  {
   "cell_type": "markdown",
   "metadata": {
    "deletable": true,
    "editable": true
   },
   "source": [
    "### Build the Graph\n",
    "Build the graph using the neural network you implemented."
   ]
  },
  {
   "cell_type": "code",

   "execution_count": 50,
   "metadata": {
    "collapsed": false,
    "deletable": true,
    "editable": true

   },
   "outputs": [],
   "source": [
    "\"\"\"\n",
    "DON'T MODIFY ANYTHING IN THIS CELL\n",
    "\"\"\"\n",
    "from tensorflow.contrib import seq2seq\n",
    "\n",
    "train_graph = tf.Graph()\n",
    "with train_graph.as_default():\n",
    "    vocab_size = len(int_to_vocab)\n",
    "    input_text, targets, lr = get_inputs()\n",
    "    input_data_shape = tf.shape(input_text)\n",
    "    cell, initial_state = get_init_cell(input_data_shape[0], rnn_size)\n",
    "    logits, final_state = build_nn(cell, rnn_size, input_text, vocab_size, embed_dim)\n",
    "\n",
    "    # Probabilities for generating words\n",
    "    probs = tf.nn.softmax(logits, name='probs')\n",
    "\n",
    "    # Loss function\n",
    "    cost = seq2seq.sequence_loss(\n",
    "        logits,\n",
    "        targets,\n",
    "        tf.ones([input_data_shape[0], input_data_shape[1]]))\n",
    "\n",
    "    # Optimizer\n",
    "    optimizer = tf.train.AdamOptimizer(lr)\n",
    "\n",
    "    # Gradient Clipping\n",
    "    gradients = optimizer.compute_gradients(cost)\n",
    "    capped_gradients = [(tf.clip_by_value(grad, -1., 1.), var) for grad, var in gradients if grad is not None]\n",
    "    train_op = optimizer.apply_gradients(capped_gradients)"
   ]
  },
  {
   "cell_type": "markdown",
   "metadata": {
    "deletable": true,
    "editable": true
   },
   "source": [
    "## Train\n",
    "Train the neural network on the preprocessed data.  If you have a hard time getting a good loss, check the [forums](https://discussions.udacity.com/) to see if anyone is having the same problem."
   ]
  },
  {
   "cell_type": "code",

   "execution_count": 51,
   "metadata": {
    "collapsed": false,
    "deletable": true,
    "editable": true
   },
   "outputs": [
    {
     "name": "stdout",
     "output_type": "stream",
     "text": [
      "Epoch   0 Batch    0/46   train_loss = 8.823\n",
      "Epoch   0 Batch   10/46   train_loss = 6.825\n",
      "Epoch   0 Batch   20/46   train_loss = 6.880\n",
      "Epoch   0 Batch   30/46   train_loss = 6.654\n",
      "Epoch   0 Batch   40/46   train_loss = 6.527\n",
      "Epoch   1 Batch    4/46   train_loss = 6.090\n",
      "Epoch   1 Batch   14/46   train_loss = 6.154\n",
      "Epoch   1 Batch   24/46   train_loss = 5.994\n",
      "Epoch   1 Batch   34/46   train_loss = 6.218\n",
      "Epoch   1 Batch   44/46   train_loss = 5.947\n",
      "Epoch   2 Batch    8/46   train_loss = 5.737\n",
      "Epoch   2 Batch   18/46   train_loss = 5.563\n",
      "Epoch   2 Batch   28/46   train_loss = 5.524\n",
      "Epoch   2 Batch   38/46   train_loss = 5.315\n",
      "Epoch   3 Batch    2/46   train_loss = 4.963\n",
      "Epoch   3 Batch   12/46   train_loss = 5.059\n",
      "Epoch   3 Batch   22/46   train_loss = 4.839\n",
      "Epoch   3 Batch   32/46   train_loss = 4.655\n",
      "Epoch   3 Batch   42/46   train_loss = 4.725\n",
      "Epoch   4 Batch    6/46   train_loss = 4.663\n",
      "Epoch   4 Batch   16/46   train_loss = 4.767\n",
      "Epoch   4 Batch   26/46   train_loss = 4.668\n",
      "Epoch   4 Batch   36/46   train_loss = 4.532\n",
      "Epoch   5 Batch    0/46   train_loss = 4.471\n",
      "Epoch   5 Batch   10/46   train_loss = 4.533\n",
      "Epoch   5 Batch   20/46   train_loss = 4.436\n",
      "Epoch   5 Batch   30/46   train_loss = 4.433\n",
      "Epoch   5 Batch   40/46   train_loss = 4.263\n",
      "Epoch   6 Batch    4/46   train_loss = 4.291\n",
      "Epoch   6 Batch   14/46   train_loss = 4.304\n",
      "Epoch   6 Batch   24/46   train_loss = 4.161\n",
      "Epoch   6 Batch   34/46   train_loss = 4.469\n",
      "Epoch   6 Batch   44/46   train_loss = 4.225\n",
      "Epoch   7 Batch    8/46   train_loss = 4.137\n",
      "Epoch   7 Batch   18/46   train_loss = 4.183\n",
      "Epoch   7 Batch   28/46   train_loss = 4.235\n",
      "Epoch   7 Batch   38/46   train_loss = 4.152\n",
      "Epoch   8 Batch    2/46   train_loss = 4.061\n",
      "Epoch   8 Batch   12/46   train_loss = 4.008\n",
      "Epoch   8 Batch   22/46   train_loss = 4.056\n",
      "Epoch   8 Batch   32/46   train_loss = 3.926\n",
      "Epoch   8 Batch   42/46   train_loss = 3.995\n",
      "Epoch   9 Batch    6/46   train_loss = 3.941\n",
      "Epoch   9 Batch   16/46   train_loss = 3.941\n",
      "Epoch   9 Batch   26/46   train_loss = 3.955\n",
      "Epoch   9 Batch   36/46   train_loss = 3.817\n",
      "Epoch  10 Batch    0/46   train_loss = 3.757\n",
      "Epoch  10 Batch   10/46   train_loss = 3.856\n",
      "Epoch  10 Batch   20/46   train_loss = 3.722\n",
      "Epoch  10 Batch   30/46   train_loss = 3.722\n",
      "Epoch  10 Batch   40/46   train_loss = 3.530\n",
      "Epoch  11 Batch    4/46   train_loss = 3.624\n",
      "Epoch  11 Batch   14/46   train_loss = 3.624\n",
      "Epoch  11 Batch   24/46   train_loss = 3.481\n",
      "Epoch  11 Batch   34/46   train_loss = 3.643\n",
      "Epoch  11 Batch   44/46   train_loss = 3.519\n",
      "Epoch  12 Batch    8/46   train_loss = 3.469\n",
      "Epoch  12 Batch   18/46   train_loss = 3.481\n",
      "Epoch  12 Batch   28/46   train_loss = 3.436\n",
      "Epoch  12 Batch   38/46   train_loss = 3.369\n",
      "Epoch  13 Batch    2/46   train_loss = 3.297\n",
      "Epoch  13 Batch   12/46   train_loss = 3.182\n",
      "Epoch  13 Batch   22/46   train_loss = 3.284\n",
      "Epoch  13 Batch   32/46   train_loss = 3.191\n",
      "Epoch  13 Batch   42/46   train_loss = 3.251\n",
      "Epoch  14 Batch    6/46   train_loss = 3.201\n",
      "Epoch  14 Batch   16/46   train_loss = 3.092\n",
      "Epoch  14 Batch   26/46   train_loss = 3.109\n",
      "Epoch  14 Batch   36/46   train_loss = 3.084\n",
      "Epoch  15 Batch    0/46   train_loss = 3.029\n",
      "Epoch  15 Batch   10/46   train_loss = 3.110\n",
      "Epoch  15 Batch   20/46   train_loss = 2.913\n",
      "Epoch  15 Batch   30/46   train_loss = 3.043\n",
      "Epoch  15 Batch   40/46   train_loss = 2.807\n",
      "Epoch  16 Batch    4/46   train_loss = 2.916\n",
      "Epoch  16 Batch   14/46   train_loss = 2.921\n",
      "Epoch  16 Batch   24/46   train_loss = 2.744\n",
      "Epoch  16 Batch   34/46   train_loss = 2.889\n",
      "Epoch  16 Batch   44/46   train_loss = 2.842\n",
      "Epoch  17 Batch    8/46   train_loss = 2.699\n",
      "Epoch  17 Batch   18/46   train_loss = 2.709\n",
      "Epoch  17 Batch   28/46   train_loss = 2.663\n",
      "Epoch  17 Batch   38/46   train_loss = 2.631\n",
      "Epoch  18 Batch    2/46   train_loss = 2.598\n",
      "Epoch  18 Batch   12/46   train_loss = 2.475\n",
      "Epoch  18 Batch   22/46   train_loss = 2.558\n",
      "Epoch  18 Batch   32/46   train_loss = 2.514\n",
      "Epoch  18 Batch   42/46   train_loss = 2.640\n",
      "Epoch  19 Batch    6/46   train_loss = 2.489\n",
      "Epoch  19 Batch   16/46   train_loss = 2.405\n",
      "Epoch  19 Batch   26/46   train_loss = 2.420\n",
      "Epoch  19 Batch   36/46   train_loss = 2.436\n",
      "Epoch  20 Batch    0/46   train_loss = 2.402\n",
      "Epoch  20 Batch   10/46   train_loss = 2.516\n",
      "Epoch  20 Batch   20/46   train_loss = 2.304\n",
      "Epoch  20 Batch   30/46   train_loss = 2.470\n",
      "Epoch  20 Batch   40/46   train_loss = 2.235\n",
      "Epoch  21 Batch    4/46   train_loss = 2.419\n",
      "Epoch  21 Batch   14/46   train_loss = 2.396\n",
      "Epoch  21 Batch   24/46   train_loss = 2.209\n",
      "Epoch  21 Batch   34/46   train_loss = 2.330\n",
      "Epoch  21 Batch   44/46   train_loss = 2.287\n",
      "Epoch  22 Batch    8/46   train_loss = 2.227\n",
      "Epoch  22 Batch   18/46   train_loss = 2.172\n",
      "Epoch  22 Batch   28/46   train_loss = 2.133\n",
      "Epoch  22 Batch   38/46   train_loss = 2.067\n",
      "Epoch  23 Batch    2/46   train_loss = 2.103\n",
      "Epoch  23 Batch   12/46   train_loss = 2.026\n",
      "Epoch  23 Batch   22/46   train_loss = 2.075\n",
      "Epoch  23 Batch   32/46   train_loss = 2.022\n",
      "Epoch  23 Batch   42/46   train_loss = 2.084\n",
      "Epoch  24 Batch    6/46   train_loss = 1.974\n",
      "Epoch  24 Batch   16/46   train_loss = 1.946\n",
      "Epoch  24 Batch   26/46   train_loss = 1.880\n",
      "Epoch  24 Batch   36/46   train_loss = 1.895\n",
      "Epoch  25 Batch    0/46   train_loss = 1.914\n",
      "Epoch  25 Batch   10/46   train_loss = 1.995\n",
      "Epoch  25 Batch   20/46   train_loss = 1.870\n",
      "Epoch  25 Batch   30/46   train_loss = 1.894\n",
      "Epoch  25 Batch   40/46   train_loss = 1.745\n",
      "Epoch  26 Batch    4/46   train_loss = 1.852\n",
      "Epoch  26 Batch   14/46   train_loss = 1.910\n",
      "Epoch  26 Batch   24/46   train_loss = 1.697\n",
      "Epoch  26 Batch   34/46   train_loss = 1.723\n",
      "Epoch  26 Batch   44/46   train_loss = 1.719\n",
      "Epoch  27 Batch    8/46   train_loss = 1.708\n",
      "Epoch  27 Batch   18/46   train_loss = 1.673\n",
      "Epoch  27 Batch   28/46   train_loss = 1.599\n",
      "Epoch  27 Batch   38/46   train_loss = 1.547\n",
      "Epoch  28 Batch    2/46   train_loss = 1.552\n",
      "Epoch  28 Batch   12/46   train_loss = 1.532\n",
      "Epoch  28 Batch   22/46   train_loss = 1.600\n",
      "Epoch  28 Batch   32/46   train_loss = 1.594\n",
      "Epoch  28 Batch   42/46   train_loss = 1.577\n",
      "Epoch  29 Batch    6/46   train_loss = 1.500\n",
      "Epoch  29 Batch   16/46   train_loss = 1.467\n",
      "Epoch  29 Batch   26/46   train_loss = 1.453\n",
      "Epoch  29 Batch   36/46   train_loss = 1.480\n",
      "Epoch  30 Batch    0/46   train_loss = 1.448\n",
      "Epoch  30 Batch   10/46   train_loss = 1.513\n",
      "Epoch  30 Batch   20/46   train_loss = 1.448\n",
      "Epoch  30 Batch   30/46   train_loss = 1.517\n",
      "Epoch  30 Batch   40/46   train_loss = 1.343\n",
      "Epoch  31 Batch    4/46   train_loss = 1.458\n",
      "Epoch  31 Batch   14/46   train_loss = 1.476\n",
      "Epoch  31 Batch   24/46   train_loss = 1.359\n",
      "Epoch  31 Batch   34/46   train_loss = 1.339\n",
      "Epoch  31 Batch   44/46   train_loss = 1.349\n",
      "Epoch  32 Batch    8/46   train_loss = 1.304\n",
      "Epoch  32 Batch   18/46   train_loss = 1.229\n",
      "Epoch  32 Batch   28/46   train_loss = 1.245\n",
      "Epoch  32 Batch   38/46   train_loss = 1.180\n",
      "Epoch  33 Batch    2/46   train_loss = 1.209\n",
      "Epoch  33 Batch   12/46   train_loss = 1.198\n",
      "Epoch  33 Batch   22/46   train_loss = 1.247\n",
      "Epoch  33 Batch   32/46   train_loss = 1.236\n",
      "Epoch  33 Batch   42/46   train_loss = 1.243\n",
      "Epoch  34 Batch    6/46   train_loss = 1.186\n",
      "Epoch  34 Batch   16/46   train_loss = 1.096\n",
      "Epoch  34 Batch   26/46   train_loss = 1.186\n",
      "Epoch  34 Batch   36/46   train_loss = 1.197\n",
      "Epoch  35 Batch    0/46   train_loss = 1.139\n",
      "Epoch  35 Batch   10/46   train_loss = 1.189\n",
      "Epoch  35 Batch   20/46   train_loss = 1.131\n",
      "Epoch  35 Batch   30/46   train_loss = 1.207\n",
      "Epoch  35 Batch   40/46   train_loss = 1.093\n",
      "Epoch  36 Batch    4/46   train_loss = 1.216\n",
      "Epoch  36 Batch   14/46   train_loss = 1.213\n",
      "Epoch  36 Batch   24/46   train_loss = 1.061\n",
      "Epoch  36 Batch   34/46   train_loss = 1.078\n",
      "Epoch  36 Batch   44/46   train_loss = 1.103\n",
      "Epoch  37 Batch    8/46   train_loss = 1.063\n",
      "Epoch  37 Batch   18/46   train_loss = 1.025\n",
      "Epoch  37 Batch   28/46   train_loss = 1.012\n",
      "Epoch  37 Batch   38/46   train_loss = 0.996\n",
      "Epoch  38 Batch    2/46   train_loss = 0.989\n",
      "Epoch  38 Batch   12/46   train_loss = 0.965\n",
      "Epoch  38 Batch   22/46   train_loss = 1.030\n",
      "Epoch  38 Batch   32/46   train_loss = 1.022\n",
      "Epoch  38 Batch   42/46   train_loss = 1.021\n",
      "Epoch  39 Batch    6/46   train_loss = 0.966\n",
      "Epoch  39 Batch   16/46   train_loss = 0.869\n",
      "Epoch  39 Batch   26/46   train_loss = 0.926\n",
      "Epoch  39 Batch   36/46   train_loss = 0.943\n",
      "Epoch  40 Batch    0/46   train_loss = 0.964\n",
      "Epoch  40 Batch   10/46   train_loss = 0.958\n",
      "Epoch  40 Batch   20/46   train_loss = 0.919\n",
      "Epoch  40 Batch   30/46   train_loss = 0.972\n",
      "Epoch  40 Batch   40/46   train_loss = 0.860\n",
      "Epoch  41 Batch    4/46   train_loss = 0.976\n",
      "Epoch  41 Batch   14/46   train_loss = 0.983\n",
      "Epoch  41 Batch   24/46   train_loss = 0.873\n",
      "Epoch  41 Batch   34/46   train_loss = 0.870\n",
      "Epoch  41 Batch   44/46   train_loss = 0.901\n",
      "Epoch  42 Batch    8/46   train_loss = 0.860\n",
      "Epoch  42 Batch   18/46   train_loss = 0.774\n",
      "Epoch  42 Batch   28/46   train_loss = 0.788\n",
      "Epoch  42 Batch   38/46   train_loss = 0.800\n",
      "Epoch  43 Batch    2/46   train_loss = 0.815\n",
      "Epoch  43 Batch   12/46   train_loss = 0.781\n",
      "Epoch  43 Batch   22/46   train_loss = 0.820\n",
      "Epoch  43 Batch   32/46   train_loss = 0.819\n",
      "Epoch  43 Batch   42/46   train_loss = 0.832\n",
      "Epoch  44 Batch    6/46   train_loss = 0.794\n",
      "Epoch  44 Batch   16/46   train_loss = 0.726\n",
      "Epoch  44 Batch   26/46   train_loss = 0.785\n",
      "Epoch  44 Batch   36/46   train_loss = 0.779\n",
      "Epoch  45 Batch    0/46   train_loss = 0.761\n",
      "Epoch  45 Batch   10/46   train_loss = 0.814\n",
      "Epoch  45 Batch   20/46   train_loss = 0.722\n",
      "Epoch  45 Batch   30/46   train_loss = 0.776\n",
      "Epoch  45 Batch   40/46   train_loss = 0.704\n",
      "Epoch  46 Batch    4/46   train_loss = 0.805\n",
      "Epoch  46 Batch   14/46   train_loss = 0.813\n",
      "Epoch  46 Batch   24/46   train_loss = 0.701\n",
      "Epoch  46 Batch   34/46   train_loss = 0.721\n",
      "Epoch  46 Batch   44/46   train_loss = 0.722\n",
      "Epoch  47 Batch    8/46   train_loss = 0.730\n",
      "Epoch  47 Batch   18/46   train_loss = 0.613\n",
      "Epoch  47 Batch   28/46   train_loss = 0.682\n",
      "Epoch  47 Batch   38/46   train_loss = 0.658\n",
      "Epoch  48 Batch    2/46   train_loss = 0.662\n",
      "Epoch  48 Batch   12/46   train_loss = 0.617\n",
      "Epoch  48 Batch   22/46   train_loss = 0.676\n",
      "Epoch  48 Batch   32/46   train_loss = 0.655\n",
      "Epoch  48 Batch   42/46   train_loss = 0.690\n",
      "Epoch  49 Batch    6/46   train_loss = 0.666\n",
      "Epoch  49 Batch   16/46   train_loss = 0.578\n",
      "Epoch  49 Batch   26/46   train_loss = 0.603\n",
      "Epoch  49 Batch   36/46   train_loss = 0.651\n",
      "Epoch  50 Batch    0/46   train_loss = 0.625\n",
      "Epoch  50 Batch   10/46   train_loss = 0.673\n",
      "Epoch  50 Batch   20/46   train_loss = 0.560\n",
      "Epoch  50 Batch   30/46   train_loss = 0.645\n",
      "Epoch  50 Batch   40/46   train_loss = 0.596\n",
      "Epoch  51 Batch    4/46   train_loss = 0.664\n",
      "Epoch  51 Batch   14/46   train_loss = 0.631\n",
      "Epoch  51 Batch   24/46   train_loss = 0.559\n",
      "Epoch  51 Batch   34/46   train_loss = 0.601\n",
      "Epoch  51 Batch   44/46   train_loss = 0.587\n",
      "Epoch  52 Batch    8/46   train_loss = 0.598\n",
      "Epoch  52 Batch   18/46   train_loss = 0.560\n",
      "Epoch  52 Batch   28/46   train_loss = 0.526\n",
      "Epoch  52 Batch   38/46   train_loss = 0.568\n",
      "Epoch  53 Batch    2/46   train_loss = 0.586\n",
      "Epoch  53 Batch   12/46   train_loss = 0.524\n",
      "Epoch  53 Batch   22/46   train_loss = 0.566\n",
      "Epoch  53 Batch   32/46   train_loss = 0.550\n",
      "Epoch  53 Batch   42/46   train_loss = 0.625\n",
      "Epoch  54 Batch    6/46   train_loss = 0.574\n",
      "Epoch  54 Batch   16/46   train_loss = 0.502\n",
      "Epoch  54 Batch   26/46   train_loss = 0.505\n",
      "Epoch  54 Batch   36/46   train_loss = 0.556\n",
      "Epoch  55 Batch    0/46   train_loss = 0.527\n",
      "Epoch  55 Batch   10/46   train_loss = 0.580\n",
      "Epoch  55 Batch   20/46   train_loss = 0.494\n",
      "Epoch  55 Batch   30/46   train_loss = 0.537\n",
      "Epoch  55 Batch   40/46   train_loss = 0.529\n",
      "Epoch  56 Batch    4/46   train_loss = 0.637\n",
      "Epoch  56 Batch   14/46   train_loss = 0.543\n",
      "Epoch  56 Batch   24/46   train_loss = 0.551\n",
      "Epoch  56 Batch   34/46   train_loss = 0.533\n",
      "Epoch  56 Batch   44/46   train_loss = 0.543\n",
      "Epoch  57 Batch    8/46   train_loss = 0.525\n",
      "Epoch  57 Batch   18/46   train_loss = 0.491\n",
      "Epoch  57 Batch   28/46   train_loss = 0.522\n",
      "Epoch  57 Batch   38/46   train_loss = 0.526\n",
      "Epoch  58 Batch    2/46   train_loss = 0.595\n",
      "Epoch  58 Batch   12/46   train_loss = 0.514\n",
      "Epoch  58 Batch   22/46   train_loss = 0.545\n",
      "Epoch  58 Batch   32/46   train_loss = 0.525\n",
      "Epoch  58 Batch   42/46   train_loss = 0.550\n",
      "Epoch  59 Batch    6/46   train_loss = 0.605\n",
      "Epoch  59 Batch   16/46   train_loss = 0.504\n",
      "Epoch  59 Batch   26/46   train_loss = 0.520\n",
      "Epoch  59 Batch   36/46   train_loss = 0.525\n",
      "Epoch  60 Batch    0/46   train_loss = 0.528\n",
      "Epoch  60 Batch   10/46   train_loss = 0.575\n",
      "Epoch  60 Batch   20/46   train_loss = 0.491\n",
      "Epoch  60 Batch   30/46   train_loss = 0.573\n",
      "Epoch  60 Batch   40/46   train_loss = 0.487\n",
      "Epoch  61 Batch    4/46   train_loss = 0.586\n",
      "Epoch  61 Batch   14/46   train_loss = 0.558\n",
      "Epoch  61 Batch   24/46   train_loss = 0.527\n",
      "Epoch  61 Batch   34/46   train_loss = 0.536\n",
      "Epoch  61 Batch   44/46   train_loss = 0.512\n",
      "Epoch  62 Batch    8/46   train_loss = 0.559\n",
      "Epoch  62 Batch   18/46   train_loss = 0.471\n",
      "Epoch  62 Batch   28/46   train_loss = 0.510\n",
      "Epoch  62 Batch   38/46   train_loss = 0.546\n",
      "Epoch  63 Batch    2/46   train_loss = 0.543\n",
      "Epoch  63 Batch   12/46   train_loss = 0.512\n",
      "Epoch  63 Batch   22/46   train_loss = 0.535\n",
      "Epoch  63 Batch   32/46   train_loss = 0.469\n",
      "Epoch  63 Batch   42/46   train_loss = 0.553\n",
      "Epoch  64 Batch    6/46   train_loss = 0.536\n",
      "Epoch  64 Batch   16/46   train_loss = 0.529\n",
      "Epoch  64 Batch   26/46   train_loss = 0.494\n",
      "Epoch  64 Batch   36/46   train_loss = 0.514\n",
      "Epoch  65 Batch    0/46   train_loss = 0.484\n",
      "Epoch  65 Batch   10/46   train_loss = 0.565\n",
      "Epoch  65 Batch   20/46   train_loss = 0.485\n",
      "Epoch  65 Batch   30/46   train_loss = 0.551\n",
      "Epoch  65 Batch   40/46   train_loss = 0.493\n",
      "Epoch  66 Batch    4/46   train_loss = 0.540\n",
      "Epoch  66 Batch   14/46   train_loss = 0.490\n",
      "Epoch  66 Batch   24/46   train_loss = 0.451\n",
      "Epoch  66 Batch   34/46   train_loss = 0.507\n",
      "Epoch  66 Batch   44/46   train_loss = 0.487\n",
      "Epoch  67 Batch    8/46   train_loss = 0.498\n",
      "Epoch  67 Batch   18/46   train_loss = 0.432\n",
      "Epoch  67 Batch   28/46   train_loss = 0.433\n",
      "Epoch  67 Batch   38/46   train_loss = 0.458\n",
      "Epoch  68 Batch    2/46   train_loss = 0.473\n",
      "Epoch  68 Batch   12/46   train_loss = 0.450\n",
      "Epoch  68 Batch   22/46   train_loss = 0.478\n",
      "Epoch  68 Batch   32/46   train_loss = 0.436\n",
      "Epoch  68 Batch   42/46   train_loss = 0.456\n",
      "Epoch  69 Batch    6/46   train_loss = 0.449\n",
      "Epoch  69 Batch   16/46   train_loss = 0.422\n",
      "Epoch  69 Batch   26/46   train_loss = 0.418\n",
      "Epoch  69 Batch   36/46   train_loss = 0.421\n",
      "Epoch  70 Batch    0/46   train_loss = 0.417\n",
      "Epoch  70 Batch   10/46   train_loss = 0.446\n",
      "Epoch  70 Batch   20/46   train_loss = 0.353\n",
      "Epoch  70 Batch   30/46   train_loss = 0.395\n",
      "Epoch  70 Batch   40/46   train_loss = 0.345\n",
      "Epoch  71 Batch    4/46   train_loss = 0.430\n",
      "Epoch  71 Batch   14/46   train_loss = 0.379\n",
      "Epoch  71 Batch   24/46   train_loss = 0.348\n",
      "Epoch  71 Batch   34/46   train_loss = 0.350\n",
      "Epoch  71 Batch   44/46   train_loss = 0.374\n",
      "Epoch  72 Batch    8/46   train_loss = 0.343\n",
      "Epoch  72 Batch   18/46   train_loss = 0.305\n",
      "Epoch  72 Batch   28/46   train_loss = 0.321\n",
      "Epoch  72 Batch   38/46   train_loss = 0.304\n",
      "Epoch  73 Batch    2/46   train_loss = 0.340\n",
      "Epoch  73 Batch   12/46   train_loss = 0.284\n",
      "Epoch  73 Batch   22/46   train_loss = 0.310\n",
      "Epoch  73 Batch   32/46   train_loss = 0.284\n",
      "Epoch  73 Batch   42/46   train_loss = 0.307\n",
      "Epoch  74 Batch    6/46   train_loss = 0.308\n",
      "Epoch  74 Batch   16/46   train_loss = 0.248\n",
      "Epoch  74 Batch   26/46   train_loss = 0.261\n",
      "Epoch  74 Batch   36/46   train_loss = 0.272\n",
      "Epoch  75 Batch    0/46   train_loss = 0.245\n",
      "Epoch  75 Batch   10/46   train_loss = 0.278\n",
      "Epoch  75 Batch   20/46   train_loss = 0.226\n",
      "Epoch  75 Batch   30/46   train_loss = 0.247\n",
      "Epoch  75 Batch   40/46   train_loss = 0.219\n",
      "Epoch  76 Batch    4/46   train_loss = 0.272\n",
      "Epoch  76 Batch   14/46   train_loss = 0.232\n",
      "Epoch  76 Batch   24/46   train_loss = 0.210\n",
      "Epoch  76 Batch   34/46   train_loss = 0.207\n",
      "Epoch  76 Batch   44/46   train_loss = 0.206\n",
      "Epoch  77 Batch    8/46   train_loss = 0.194\n",
      "Epoch  77 Batch   18/46   train_loss = 0.178\n",
      "Epoch  77 Batch   28/46   train_loss = 0.199\n",
      "Epoch  77 Batch   38/46   train_loss = 0.195\n",
      "Epoch  78 Batch    2/46   train_loss = 0.191\n",
      "Epoch  78 Batch   12/46   train_loss = 0.177\n",
      "Epoch  78 Batch   22/46   train_loss = 0.190\n",
      "Epoch  78 Batch   32/46   train_loss = 0.169\n",
      "Epoch  78 Batch   42/46   train_loss = 0.187\n",
      "Epoch  79 Batch    6/46   train_loss = 0.187\n",
      "Epoch  79 Batch   16/46   train_loss = 0.142\n",
      "Epoch  79 Batch   26/46   train_loss = 0.178\n",
      "Epoch  79 Batch   36/46   train_loss = 0.158\n",
      "Epoch  80 Batch    0/46   train_loss = 0.154\n",
      "Epoch  80 Batch   10/46   train_loss = 0.177\n",
      "Epoch  80 Batch   20/46   train_loss = 0.137\n",
      "Epoch  80 Batch   30/46   train_loss = 0.162\n",
      "Epoch  80 Batch   40/46   train_loss = 0.137\n",
      "Epoch  81 Batch    4/46   train_loss = 0.171\n",
      "Epoch  81 Batch   14/46   train_loss = 0.149\n",
      "Epoch  81 Batch   24/46   train_loss = 0.135\n",
      "Epoch  81 Batch   34/46   train_loss = 0.144\n",
      "Epoch  81 Batch   44/46   train_loss = 0.141\n",
      "Epoch  82 Batch    8/46   train_loss = 0.132\n",
      "Epoch  82 Batch   18/46   train_loss = 0.116\n",
      "Epoch  82 Batch   28/46   train_loss = 0.138\n",
      "Epoch  82 Batch   38/46   train_loss = 0.144\n",
      "Epoch  83 Batch    2/46   train_loss = 0.131\n",
      "Epoch  83 Batch   12/46   train_loss = 0.128\n",
      "Epoch  83 Batch   22/46   train_loss = 0.134\n",
      "Epoch  83 Batch   32/46   train_loss = 0.119\n",
      "Epoch  83 Batch   42/46   train_loss = 0.138\n",
      "Epoch  84 Batch    6/46   train_loss = 0.135\n",
      "Epoch  84 Batch   16/46   train_loss = 0.115\n",
      "Epoch  84 Batch   26/46   train_loss = 0.140\n",
      "Epoch  84 Batch   36/46   train_loss = 0.126\n",
      "Epoch  85 Batch    0/46   train_loss = 0.119\n",
      "Epoch  85 Batch   10/46   train_loss = 0.144\n",
      "Epoch  85 Batch   20/46   train_loss = 0.110\n",
      "Epoch  85 Batch   30/46   train_loss = 0.125\n",
      "Epoch  85 Batch   40/46   train_loss = 0.108\n",
      "Epoch  86 Batch    4/46   train_loss = 0.131\n",
      "Epoch  86 Batch   14/46   train_loss = 0.118\n",
      "Epoch  86 Batch   24/46   train_loss = 0.115\n",
      "Epoch  86 Batch   34/46   train_loss = 0.116\n",
      "Epoch  86 Batch   44/46   train_loss = 0.123\n",
      "Epoch  87 Batch    8/46   train_loss = 0.105\n",
      "Epoch  87 Batch   18/46   train_loss = 0.094\n",
      "Epoch  87 Batch   28/46   train_loss = 0.122\n",
      "Epoch  87 Batch   38/46   train_loss = 0.123\n",
      "Epoch  88 Batch    2/46   train_loss = 0.111\n",
      "Epoch  88 Batch   12/46   train_loss = 0.111\n",
      "Epoch  88 Batch   22/46   train_loss = 0.117\n",
      "Epoch  88 Batch   32/46   train_loss = 0.102\n",
      "Epoch  88 Batch   42/46   train_loss = 0.124\n",
      "Epoch  89 Batch    6/46   train_loss = 0.121\n",
      "Epoch  89 Batch   16/46   train_loss = 0.096\n",
      "Epoch  89 Batch   26/46   train_loss = 0.129\n",
      "Epoch  89 Batch   36/46   train_loss = 0.109\n",
      "Epoch  90 Batch    0/46   train_loss = 0.106\n",
      "Epoch  90 Batch   10/46   train_loss = 0.134\n",
      "Epoch  90 Batch   20/46   train_loss = 0.096\n",
      "Epoch  90 Batch   30/46   train_loss = 0.114\n",
      "Epoch  90 Batch   40/46   train_loss = 0.093\n",
      "Epoch  91 Batch    4/46   train_loss = 0.117\n",
      "Epoch  91 Batch   14/46   train_loss = 0.106\n",
      "Epoch  91 Batch   24/46   train_loss = 0.104\n",
      "Epoch  91 Batch   34/46   train_loss = 0.108\n",
      "Epoch  91 Batch   44/46   train_loss = 0.114\n",
      "Epoch  92 Batch    8/46   train_loss = 0.096\n",
      "Epoch  92 Batch   18/46   train_loss = 0.086\n",
      "Epoch  92 Batch   28/46   train_loss = 0.111\n",
      "Epoch  92 Batch   38/46   train_loss = 0.117\n",
      "Epoch  93 Batch    2/46   train_loss = 0.101\n",
      "Epoch  93 Batch   12/46   train_loss = 0.106\n",
      "Epoch  93 Batch   22/46   train_loss = 0.110\n",
      "Epoch  93 Batch   32/46   train_loss = 0.095\n",
      "Epoch  93 Batch   42/46   train_loss = 0.116\n",
      "Epoch  94 Batch    6/46   train_loss = 0.112\n",
      "Epoch  94 Batch   16/46   train_loss = 0.088\n",
      "Epoch  94 Batch   26/46   train_loss = 0.121\n",
      "Epoch  94 Batch   36/46   train_loss = 0.106\n",
      "Epoch  95 Batch    0/46   train_loss = 0.102\n",
      "Epoch  95 Batch   10/46   train_loss = 0.129\n",
      "Epoch  95 Batch   20/46   train_loss = 0.091\n",
      "Epoch  95 Batch   30/46   train_loss = 0.108\n",
      "Epoch  95 Batch   40/46   train_loss = 0.088\n",
      "Epoch  96 Batch    4/46   train_loss = 0.112\n",
      "Epoch  96 Batch   14/46   train_loss = 0.101\n",
      "Epoch  96 Batch   24/46   train_loss = 0.101\n",
      "Epoch  96 Batch   34/46   train_loss = 0.105\n",
      "Epoch  96 Batch   44/46   train_loss = 0.110\n",
      "Epoch  97 Batch    8/46   train_loss = 0.093\n",
      "Epoch  97 Batch   18/46   train_loss = 0.084\n",
      "Epoch  97 Batch   28/46   train_loss = 0.108\n",
      "Epoch  97 Batch   38/46   train_loss = 0.114\n",
      "Epoch  98 Batch    2/46   train_loss = 0.098\n",
      "Epoch  98 Batch   12/46   train_loss = 0.104\n",
      "Epoch  98 Batch   22/46   train_loss = 0.108\n",
      "Epoch  98 Batch   32/46   train_loss = 0.092\n",
      "Epoch  98 Batch   42/46   train_loss = 0.114\n",
      "Epoch  99 Batch    6/46   train_loss = 0.110\n",
      "Epoch  99 Batch   16/46   train_loss = 0.087\n",
      "Epoch  99 Batch   26/46   train_loss = 0.120\n",
      "Epoch  99 Batch   36/46   train_loss = 0.102\n",
      "Model Trained and Saved\n"
     ]
    }
   ],

   "source": [
    "\"\"\"\n",
    "DON'T MODIFY ANYTHING IN THIS CELL\n",
    "\"\"\"\n",
    "batches = get_batches(int_text, batch_size, seq_length)\n",
    "\n",
    "with tf.Session(graph=train_graph) as sess:\n",
    "    sess.run(tf.global_variables_initializer())\n",
    "\n",
    "    for epoch_i in range(num_epochs):\n",
    "        state = sess.run(initial_state, {input_text: batches[0][0]})\n",
    "\n",
    "        for batch_i, (x, y) in enumerate(batches):\n",
    "            feed = {\n",
    "                input_text: x,\n",
    "                targets: y,\n",
    "                initial_state: state,\n",
    "                lr: learning_rate}\n",
    "            train_loss, state, _ = sess.run([cost, final_state, train_op], feed)\n",
    "\n",
    "            # Show every <show_every_n_batches> batches\n",
    "            if (epoch_i * len(batches) + batch_i) % show_every_n_batches == 0:\n",
    "                print('Epoch {:>3} Batch {:>4}/{}   train_loss = {:.3f}'.format(\n",
    "                    epoch_i,\n",
    "                    batch_i,\n",
    "                    len(batches),\n",
    "                    train_loss))\n",
    "\n",
    "    # Save Model\n",
    "    saver = tf.train.Saver()\n",
    "    saver.save(sess, save_dir)\n",
    "    print('Model Trained and Saved')"
   ]
  },
  {
   "cell_type": "markdown",
   "metadata": {
    "deletable": true,
    "editable": true
   },
   "source": [
    "## Save Parameters\n",
    "Save `seq_length` and `save_dir` for generating a new TV script."
   ]
  },
  {
   "cell_type": "code",

   "execution_count": 52,
   "metadata": {
    "collapsed": true,
    "deletable": true,
    "editable": true

   },
   "outputs": [],
   "source": [
    "\"\"\"\n",
    "DON'T MODIFY ANYTHING IN THIS CELL\n",
    "\"\"\"\n",
    "# Save parameters for checkpoint\n",
    "helper.save_params((seq_length, save_dir))"
   ]
  },
  {
   "cell_type": "markdown",
   "metadata": {
    "deletable": true,
    "editable": true
   },
   "source": [
    "# Checkpoint"
   ]
  },
  {
   "cell_type": "code",

   "execution_count": 53,
   "metadata": {
    "collapsed": true,
    "deletable": true,
    "editable": true

   },
   "outputs": [],
   "source": [
    "\"\"\"\n",
    "DON'T MODIFY ANYTHING IN THIS CELL\n",
    "\"\"\"\n",
    "import tensorflow as tf\n",
    "import numpy as np\n",
    "import helper\n",
    "import problem_unittests as tests\n",
    "\n",
    "_, vocab_to_int, int_to_vocab, token_dict = helper.load_preprocess()\n",
    "seq_length, load_dir = helper.load_params()"
   ]
  },
  {
   "cell_type": "markdown",
   "metadata": {
    "deletable": true,
    "editable": true
   },
   "source": [
    "## Implement Generate Functions\n",
    "### Get Tensors\n",
    "Get tensors from `loaded_graph` using the function [`get_tensor_by_name()`](https://www.tensorflow.org/api_docs/python/tf/Graph#get_tensor_by_name).  Get the tensors using the following names:\n",
    "- \"input:0\"\n",
    "- \"initial_state:0\"\n",
    "- \"final_state:0\"\n",
    "- \"probs:0\"\n",
    "\n",
    "Return the tensors in the following tuple `(InputTensor, InitialStateTensor, FinalStateTensor, ProbsTensor)` "
   ]
  },
  {
   "cell_type": "code",
   "execution_count": null,
   "metadata": {

    "collapsed": true,
    "deletable": true,
    "editable": true

   },
   "outputs": [],
   "source": [
    "def get_tensors(loaded_graph):\n",
    "    \"\"\"\n",
    "    Get input, initial state, final state, and probabilities tensor from <loaded_graph>\n",
    "    :param loaded_graph: TensorFlow graph loaded from file\n",
    "    :return: Tuple (InputTensor, InitialStateTensor, FinalStateTensor, ProbsTensor)\n",
    "    \"\"\"\n",
    "    # TODO: Implement Function\n",
    "    return None, None, None, None\n",
    "\n",
    "\n",
    "\"\"\"\n",
    "DON'T MODIFY ANYTHING IN THIS CELL THAT IS BELOW THIS LINE\n",
    "\"\"\"\n",
    "tests.test_get_tensors(get_tensors)"
   ]
  },
  {
   "cell_type": "markdown",
   "metadata": {
    "deletable": true,
    "editable": true
   },
   "source": [
    "### Choose Word\n",
    "Implement the `pick_word()` function to select the next word using `probabilities`."
   ]
  },
  {
   "cell_type": "code",
   "execution_count": null,
   "metadata": {

    "collapsed": true,
    "deletable": true,
    "editable": true

   },
   "outputs": [],
   "source": [
    "def pick_word(probabilities, int_to_vocab):\n",
    "    \"\"\"\n",
    "    Pick the next word in the generated text\n",
    "    :param probabilities: Probabilites of the next word\n",
    "    :param int_to_vocab: Dictionary of word ids as the keys and words as the values\n",
    "    :return: String of the predicted word\n",
    "    \"\"\"\n",
    "    # TODO: Implement Function\n",
    "    return None\n",
    "\n",
    "\n",
    "\"\"\"\n",
    "DON'T MODIFY ANYTHING IN THIS CELL THAT IS BELOW THIS LINE\n",
    "\"\"\"\n",
    "tests.test_pick_word(pick_word)"
   ]
  },
  {
   "cell_type": "markdown",
   "metadata": {
    "deletable": true,
    "editable": true
   },
   "source": [
    "## Generate TV Script\n",
    "This will generate the TV script for you.  Set `gen_length` to the length of TV script you want to generate."
   ]
  },
  {
   "cell_type": "code",
   "execution_count": null,
   "metadata": {

    "collapsed": true,
    "deletable": true,
    "editable": true

   },
   "outputs": [],
   "source": [
    "gen_length = 200\n",
    "# homer_simpson, moe_szyslak, or Barney_Gumble\n",
    "prime_word = 'moe_szyslak'\n",
    "\n",
    "\"\"\"\n",
    "DON'T MODIFY ANYTHING IN THIS CELL THAT IS BELOW THIS LINE\n",
    "\"\"\"\n",
    "loaded_graph = tf.Graph()\n",
    "with tf.Session(graph=loaded_graph) as sess:\n",
    "    # Load saved model\n",
    "    loader = tf.train.import_meta_graph(load_dir + '.meta')\n",
    "    loader.restore(sess, load_dir)\n",
    "\n",
    "    # Get Tensors from loaded model\n",
    "    input_text, initial_state, final_state, probs = get_tensors(loaded_graph)\n",
    "\n",
    "    # Sentences generation setup\n",
    "    gen_sentences = [prime_word + ':']\n",
    "    prev_state = sess.run(initial_state, {input_text: np.array([[1]])})\n",
    "\n",
    "    # Generate sentences\n",
    "    for n in range(gen_length):\n",
    "        # Dynamic Input\n",
    "        dyn_input = [[vocab_to_int[word] for word in gen_sentences[-seq_length:]]]\n",
    "        dyn_seq_length = len(dyn_input[0])\n",
    "\n",
    "        # Get Prediction\n",
    "        probabilities, prev_state = sess.run(\n",
    "            [probs, final_state],\n",
    "            {input_text: dyn_input, initial_state: prev_state})\n",
    "        \n",
    "        pred_word = pick_word(probabilities[dyn_seq_length-1], int_to_vocab)\n",
    "\n",
    "        gen_sentences.append(pred_word)\n",
    "    \n",
    "    # Remove tokens\n",
    "    tv_script = ' '.join(gen_sentences)\n",
    "    for key, token in token_dict.items():\n",
    "        ending = ' ' if key in ['\\n', '(', '\"'] else ''\n",
    "        tv_script = tv_script.replace(' ' + token.lower(), key)\n",
    "    tv_script = tv_script.replace('\\n ', '\\n')\n",
    "    tv_script = tv_script.replace('( ', '(')\n",
    "        \n",
    "    print(tv_script)"
   ]
  },
  {
   "cell_type": "markdown",
   "metadata": {
    "deletable": true,
    "editable": true
   },
   "source": [
    "# The TV Script is Nonsensical\n",
    "It's ok if the TV script doesn't make any sense.  We trained on less than a megabyte of text.  In order to get good results, you'll have to use a smaller vocabulary or get more data.  Luckly there's more data!  As we mentioned in the begging of this project, this is a subset of [another dataset](https://www.kaggle.com/wcukierski/the-simpsons-by-the-data).  We didn't have you train on all the data, because that would take too long.  However, you are free to train your neural network on all the data.  After you complete the project, of course.\n",
    "# Submitting This Project\n",
    "When submitting this project, make sure to run all the cells before saving the notebook. Save the notebook file as \"dlnd_tv_script_generation.ipynb\" and save it as a HTML file under \"File\" -> \"Download as\". Include the \"helper.py\" and \"problem_unittests.py\" files in your submission."
   ]
  }
 ],
 "metadata": {
  "kernelspec": {
   "display_name": "Python 3",
   "language": "python",
   "name": "python3"
  },
  "language_info": {
   "codemirror_mode": {
    "name": "ipython",
    "version": 3
   },
   "file_extension": ".py",
   "mimetype": "text/x-python",
   "name": "python",
   "nbconvert_exporter": "python",
   "pygments_lexer": "ipython3",
   "version": "3.5.2"
  }
 },
 "nbformat": 4,
 "nbformat_minor": 1
}
